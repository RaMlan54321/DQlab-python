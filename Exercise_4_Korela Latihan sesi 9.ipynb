{
  "nbformat": 4,
  "nbformat_minor": 0,
  "metadata": {
    "colab": {
      "provenance": []
    },
    "kernelspec": {
      "name": "python3",
      "display_name": "Python 3"
    },
    "language_info": {
      "name": "python"
    }
  },
  "cells": [
    {
      "cell_type": "markdown",
      "source": [
        "# **Korelasi**\n",
        "\n",
        "Korelasi adalah ukuran statistik yang mengungkapkan sejauh mana dua variabel terkait secara linier artinya mereka berubah bersama pada tingkat yang konstan baik searah maupun berlawanan arah. Korelasi digunakan untuk mendeskripsikan hubungan sederhana tanpa membuat pernyataan tentang sebab dan akibat."
      ],
      "metadata": {
        "id": "6nyd1ZKQdn7p"
      }
    },
    {
      "cell_type": "markdown",
      "source": [
        "## **Nilai Korelasi**\n",
        "\n",
        "Koefisien korelasi (biasa disimbolkan dengan *r*) dapat bernilai positif ( + ) jika hubungan dua variabel searah / berbanding lurus (semakin meningkat variabel A maka nilai variabel B juga meningkat pun sebaliknya) atau negatif ( - ) jika hubungan dua variabel berbeda arah (semakin meningkat variabel A maka nilai variabel B akan menurun begitu juga sebaliknya) dan berada pada rentang -1 s.d. 1 mendekati -1 atau 1 maka hubungan keeratan dua variabel semakin kuat. Jika nilainya mendekati 0, maka hubungan keeratan dua variabel semakin lemah.\n",
        "\n",
        "Berikut ini adalah interpretasi besarnya nilai koefisien korelasi.\n",
        "\n",
        "*   0.0 <= |*r*| <= 0.2 menyatakan hubungan keeratan sangat lemah\n",
        "*   0.2 < |*r*| <= 0.4 menyatakan hubungan keeratan lemah\n",
        "*   0.4 < |*r*| <= 0.7 menyatakan hubungan keeratan cukup kuat\n",
        "*   0.7 < |*r*| <= 0.9 menyatakan hubungan keeratan kuat\n",
        "*   0.9 < |*r*| <= 1.0 menyatakan hubungan keeratan sangat kuat."
      ],
      "metadata": {
        "id": "jEFhcJw4dqBf"
      }
    },
    {
      "cell_type": "markdown",
      "source": [
        "## **Pearson Correlation**\n",
        "\n",
        "Korelasi Pearson adalah alat analisis statistik parametrik yang digunakan untuk melihat keeratan hubungan linier antara 2 variabel yang skala datanya adalah interval atau rasio.\n",
        "<br></br>\n",
        "<b>Rumus Korelasi Pearson</b>\n",
        "  \\begin{equation}\n",
        "  r=\\frac{\\sum_{i=1}^{n}(x_{i} - \\bar{x})\\cdot(y_{i} - \\bar{y})}{\\sqrt{\\sum_{i=1}^{n}(x_{i} - \\bar{x})^2\\cdot\\sum_{i=1}^{n}(y_{i} - \\bar{y})^2}} \\\\\n",
        "  \\end{equation}\n",
        "\n",
        "Dengan :  \n",
        "<li>𝑥 = Variabel pertama </li>\n",
        "<li>𝑥̄ = Rata-rata variabel pertama </li>\n",
        "<li>𝑦 = Variabel Kedua</li>\n",
        "<li>𝑦̄ = Rata-rata variabel kedua </li>\n",
        "</ol>"
      ],
      "metadata": {
        "id": "vwTvRlxydt59"
      }
    },
    {
      "cell_type": "markdown",
      "source": [
        "## **CONTOH**\n",
        "Korelasi antara email marketing dan tingkat konversi adalah salah satu aspek yang sangat penting dalam digital marketing. Email marketing digunakan untuk mengirimkan pesan kepada pelanggan atau prospek dengan tujuan mempengaruhi tindakan mereka, seperti melakukan pembelian, mendaftar, atau mengunduh konten. Sementara itu, tingkat konversi mengukur seberapa efektif suatu kampanye dalam mendorong pengunjung untuk melakukan tindakan yang diinginkan, seperti pembelian atau pendaftaran.\n",
        "\n",
        "Hitung berapa korelasi antara data open_rate dan conversion_rate dibawah ini serta tentukan jenis korelasinya!"
      ],
      "metadata": {
        "id": "OthiX1tweYkZ"
      }
    },
    {
      "cell_type": "code",
      "execution_count": 1,
      "metadata": {
        "id": "-hTSHn1_dk9p"
      },
      "outputs": [],
      "source": [
        "# Data kampanye email\n",
        "open_rate= [0.34, 0.57, 0.61, 0.68, 0.41, 0.83, 0.91, 0.26, 0.65, 0.49, 0.74, 0.75, 0.52, 0.85, 0.59]\n",
        "conversion_rate= [0.12, 0.09, 0.14, 0.16, 0.18, 0.06, 0.05, 0.02, 0.1, 0.13, 0.04, 0.03, 0.15, 0.07, 0.08]"
      ]
    },
    {
      "cell_type": "markdown",
      "source": [
        "**JAWAB :**\n",
        "\n",
        "1. Cari rata-rata open_rate"
      ],
      "metadata": {
        "id": "Dx-RqpC6evD8"
      }
    },
    {
      "cell_type": "code",
      "source": [
        "rataan_open_rate = sum(open_rate) / len(open_rate)\n",
        "print(f'Rataan open_rate: {rataan_open_rate:.4f}')"
      ],
      "metadata": {
        "id": "ldzbjAR7e0Eh",
        "colab": {
          "base_uri": "https://localhost:8080/"
        },
        "outputId": "5d6853dd-25d4-4e16-ac4f-7b9e759935d8"
      },
      "execution_count": 3,
      "outputs": [
        {
          "output_type": "stream",
          "name": "stdout",
          "text": [
            "Rataan open_rate: 0.6133\n"
          ]
        }
      ]
    },
    {
      "cell_type": "markdown",
      "source": [
        "2. Cari rata-rata conversion_rate"
      ],
      "metadata": {
        "id": "cb6Qc9PUe2qI"
      }
    },
    {
      "cell_type": "code",
      "source": [
        "rataan_conversion_rate = sum(conversion_rate) / len(conversion_rate)\n",
        "print(f'Rataan conversion_rate: {rataan_conversion_rate:.4f}')\n"
      ],
      "metadata": {
        "id": "YOlpmwZVe7Gf",
        "colab": {
          "base_uri": "https://localhost:8080/"
        },
        "outputId": "08af59e0-505f-418d-e4d9-892689780d85"
      },
      "execution_count": 4,
      "outputs": [
        {
          "output_type": "stream",
          "name": "stdout",
          "text": [
            "Rataan conversion_rate: 0.0947\n"
          ]
        }
      ]
    },
    {
      "cell_type": "markdown",
      "source": [
        "3. Hitung bagian pembilang (dimisalkan sebagai A)\n",
        "\n",
        "  \\begin{equation}\n",
        "  A = \\sum_{i=1}^{n}(x_{i} - \\bar{x})\\cdot(y_{i} - \\bar{y})\n",
        "  \\end{equation}"
      ],
      "metadata": {
        "id": "sLn78iOufFPt"
      }
    },
    {
      "cell_type": "code",
      "source": [
        "open_rate= [0.34, 0.57, 0.61, 0.68, 0.41, 0.83, 0.91, 0.26, 0.65, 0.49, 0.74, 0.75, 0.52, 0.85, 0.59]\n",
        "conversion_rate= [0.12, 0.09, 0.14, 0.16, 0.18, 0.06, 0.05, 0.02, 0.1, 0.13, 0.04, 0.03, 0.15, 0.07, 0.08]\n",
        "\n",
        "rataan_open_rate = sum(open_rate) / len(open_rate)\n",
        "rataan_conversion_rate = sum(conversion_rate) / len(conversion_rate)\n",
        "\n",
        "jumlah_pembilang = 0\n",
        "\n",
        "for i in range(len(open_rate)):\n",
        "    # Indent the line below with 4 spaces\n",
        "    jumlah_pembilang += (open_rate[i] - rataan_open_rate) * (conversion_rate[i] - rataan_conversion_rate)\n",
        "\n",
        "print(f'Jumlah pembilang (A): {jumlah_pembilang:.4f}')"
      ],
      "metadata": {
        "id": "lq0yF4hhfTad",
        "colab": {
          "base_uri": "https://localhost:8080/"
        },
        "outputId": "a0a7b462-d4dd-41ee-a1dd-88c2a120705f"
      },
      "execution_count": 7,
      "outputs": [
        {
          "output_type": "stream",
          "name": "stdout",
          "text": [
            "Jumlah pembilang (A): -0.0448\n"
          ]
        }
      ]
    },
    {
      "cell_type": "markdown",
      "source": [
        "4. Hitung bagian penyebut (dimisalkan sebagai B)\n",
        "\n",
        "  \\begin{equation}\n",
        "  B = \\sqrt{\\sum_{i=1}^{n}(x_{i} - \\bar{x})^2\\cdot\\sum_{i=1}^{n}(y_{i} - \\bar{y})^2}\n",
        "  \\end{equation}"
      ],
      "metadata": {
        "id": "xJazYyFDfd0F"
      }
    },
    {
      "cell_type": "code",
      "source": [
        "import math\n",
        "\n",
        "# Data kampanye email\n",
        "open_rate = [0.34, 0.57, 0.61, 0.68, 0.41, 0.83, 0.91, 0.26, 0.65, 0.49, 0.74, 0.75, 0.52, 0.85, 0.59]\n",
        "conversion_rate = [0.12, 0.09, 0.14, 0.16, 0.18, 0.06, 0.05, 0.02, 0.1, 0.13, 0.04, 0.03, 0.15, 0.07, 0.08]\n",
        "\n",
        "# Rata-rata open_rate dan conversion_rate\n",
        "rataan_open_rate = sum(open_rate) / len(open_rate)\n",
        "rataan_conversion_rate = sum(conversion_rate) / len(conversion_rate)\n",
        "\n",
        "# Menghitung bagian penyebut (B)\n",
        "jumlah_kuadrat_selisih_x = 0  # Σ(xi - x̄)^2\n",
        "jumlah_kuadrat_selisih_y = 0  # Σ(yi - ȳ)^2\n",
        "\n",
        "for i in range(len(open_rate)):\n",
        "    jumlah_kuadrat_selisih_x += (open_rate[i] - rataan_open_rate) ** 2\n",
        "    jumlah_kuadrat_selisih_y += (conversion_rate[i] - rataan_conversion_rate) ** 2\n",
        "\n",
        "jumlah_penyebut = math.sqrt(jumlah_kuadrat_selisih_x * jumlah_kuadrat_selisih_y)\n",
        "\n",
        "print(f'Jumlah penyebut (B): {jumlah_penyebut:.4f}')"
      ],
      "metadata": {
        "id": "86Poa1l5flUz",
        "colab": {
          "base_uri": "https://localhost:8080/"
        },
        "outputId": "49fb072d-9090-4211-daed-1b6ab3960c75"
      },
      "execution_count": 8,
      "outputs": [
        {
          "output_type": "stream",
          "name": "stdout",
          "text": [
            "Jumlah penyebut (B): 0.1328\n"
          ]
        }
      ]
    },
    {
      "cell_type": "markdown",
      "source": [
        "5. Lakukan perhitungan korelasi\n",
        "\n",
        "<b>Rumus Korelasi Pearson</b>\n",
        "  \\begin{equation}\n",
        "  r=\\frac{\\sum_{i=1}^{n}(x_{i} - \\bar{x})\\cdot(y_{i} - \\bar{y})}{\\sqrt{\\sum_{i=1}^{n}(x_{i} - \\bar{x})^2\\cdot\\sum_{i=1}^{n}(y_{i} - \\bar{y})^2}} \\\\\n",
        "  \\end{equation}"
      ],
      "metadata": {
        "id": "jztVjKyTfpo2"
      }
    },
    {
      "cell_type": "code",
      "source": [
        "import math\n",
        "\n",
        "# Data kampanye email\n",
        "open_rate = [0.34, 0.57, 0.61, 0.68, 0.41, 0.83, 0.91, 0.26, 0.65, 0.49, 0.74, 0.75, 0.52, 0.85, 0.59]\n",
        "conversion_rate = [0.12, 0.09, 0.14, 0.16, 0.18, 0.06, 0.05, 0.02, 0.1, 0.13, 0.04, 0.03, 0.15, 0.07, 0.08]\n",
        "\n",
        "# Rata-rata open_rate dan conversion_rate\n",
        "rataan_open_rate = sum(open_rate) / len(open_rate)\n",
        "rataan_conversion_rate = sum(conversion_rate) / len(conversion_rate)\n",
        "\n",
        "# Menghitung bagian pembilang (A)\n",
        "jumlah_pembilang = 0\n",
        "for i in range(len(open_rate)):\n",
        "    jumlah_pembilang += (open_rate[i] - rataan_open_rate) * (conversion_rate[i] - rataan_conversion_rate)\n",
        "\n",
        "# Menghitung bagian penyebut (B)\n",
        "jumlah_kuadrat_selisih_x = 0\n",
        "jumlah_kuadrat_selisih_y = 0\n",
        "for i in range(len(open_rate)):\n",
        "    jumlah_kuadrat_selisih_x += (open_rate[i] - rataan_open_rate) ** 2\n",
        "    jumlah_kuadrat_selisih_y += (conversion_rate[i] - rataan_conversion_rate) ** 2\n",
        "jumlah_penyebut = math.sqrt(jumlah_kuadrat_selisih_x * jumlah_kuadrat_selisih_y)\n",
        "\n",
        "# Menghitung korelasi (r)\n",
        "r = jumlah_pembilang / jumlah_penyebut\n",
        "\n",
        "print(f'Korelasi (r) = {r:.4f}')"
      ],
      "metadata": {
        "id": "VGpgO_cHfsJi",
        "colab": {
          "base_uri": "https://localhost:8080/"
        },
        "outputId": "e27ccfe7-f618-44dc-9636-fa842efe9392"
      },
      "execution_count": 9,
      "outputs": [
        {
          "output_type": "stream",
          "name": "stdout",
          "text": [
            "Korelasi (r) = -0.3375\n"
          ]
        }
      ]
    },
    {
      "cell_type": "markdown",
      "source": [
        "6. Tentukan jenis korelasi\n",
        "\n",
        "*   0.0 <= |*r*| <= 0.2 menyatakan hubungan keeratan sangat lemah\n",
        "*   0.2 < |*r*| <= 0.4 menyatakan hubungan keeratan lemah\n",
        "*   0.4 < |*r*| <= 0.7 menyatakan hubungan keeratan cukup kuat\n",
        "*   0.7 < |*r*| <= 0.9 menyatakan hubungan keeratan kuat\n",
        "*   0.9 < |*r*| <= 1.0 menyatakan hubungan keeratan sangat kuat."
      ],
      "metadata": {
        "id": "Xud9QXBgf4dQ"
      }
    },
    {
      "cell_type": "code",
      "source": [
        "import math\n",
        "\n",
        "# ... (previous code for calculating r) ...\n",
        "\n",
        "# Tentukan jenis korelasi\n",
        "if 0.0 <= abs(r) <= 0.2:\n",
        "    jenis_korelasi = \"sangat lemah\"\n",
        "elif 0.2 < abs(r) <= 0.4:\n",
        "    jenis_korelasi = \"lemah\"\n",
        "elif 0.4 < abs(r) <= 0.7:\n",
        "    jenis_korelasi = \"cukup kuat\"\n",
        "elif 0.7 < abs(r) <= 0.9:\n",
        "    jenis_korelasi = \"kuat\"\n",
        "elif 0.9 < abs(r) <= 1.0:\n",
        "    jenis_korelasi = \"sangat kuat\"\n",
        "else:\n",
        "    jenis_korelasi = \"tidak valid\"  # Handle cases where r is outside the expected range\n",
        "\n",
        "print(f\"Jenis korelasi: {jenis_korelasi}\")"
      ],
      "metadata": {
        "id": "EZV2l_12f9Y6",
        "colab": {
          "base_uri": "https://localhost:8080/"
        },
        "outputId": "4affe048-ab91-4d3b-fbf0-97d814c098d2"
      },
      "execution_count": 10,
      "outputs": [
        {
          "output_type": "stream",
          "name": "stdout",
          "text": [
            "Jenis korelasi: lemah\n"
          ]
        }
      ]
    },
    {
      "cell_type": "markdown",
      "source": [
        "7. Interpretasikan Hasilnya\n",
        "\n",
        "...."
      ],
      "metadata": {
        "id": "DD4Iaxwqf-x8"
      }
    },
    {
      "cell_type": "code",
      "source": [
        "import math\n",
        "\n",
        "# ... (previous code for calculating r and jenis_korelasi) ...\n",
        "\n",
        "# Interpretasi hasil\n",
        "print(f\"Korelasi (r) = {r:.4f}\")\n",
        "print(f\"Jenis korelasi: {jenis_korelasi}\")\n",
        "\n",
        "# Interpretasi arah korelasi\n",
        "if r > 0:\n",
        "    arah_korelasi = \"positif\"\n",
        "elif r < 0:\n",
        "    arah_korelasi = \"negatif\"\n",
        "else:\n",
        "    arah_korelasi = \"tidak ada korelasi\"\n",
        "\n",
        "print(f\"Arah korelasi: {arah_korelasi}\")\n",
        "\n",
        "# Interpretasi lengkap\n",
        "print(\"\\nInterpretasi:\")\n",
        "if arah_korelasi == \"positif\":\n",
        "    print(f\"Terdapat korelasi {jenis_korelasi} {arah_korelasi} antara open_rate dan conversion_rate.\")\n",
        "    print(\"Artinya, semakin tinggi open_rate, cenderung semakin tinggi pula conversion_rate.\")\n",
        "elif arah_korelasi == \"negatif\":\n",
        "    print(f\"Terdapat korelasi {jenis_korelasi} {arah_korelasi} antara open_rate dan conversion_rate.\")\n",
        "    print(\"Artinya, semakin tinggi open_rate, cenderung semakin rendah conversion_rate.\")\n",
        "else:\n",
        "    print(\"Tidak terdapat korelasi linier antara open_rate dan conversion_rate.\")\n",
        "\n",
        "# Contoh interpretasi berdasarkan nilai r yang didapatkan:\n",
        "# Misalkan r = -0.65\n",
        "# Output:\n",
        "# Korelasi (r) = -0.6500\n",
        "# Jenis korelasi: cukup kuat\n",
        "# Arah korelasi: negatif\n",
        "#\n",
        "# Interpretasi:\n",
        "# Terdapat korelasi cukup kuat negatif antara open_rate dan conversion_rate.\n",
        "# Artinya, semakin tinggi open_rate, cenderung semakin rendah conversion_rate."
      ],
      "metadata": {
        "colab": {
          "base_uri": "https://localhost:8080/"
        },
        "id": "epM-kpBsQlee",
        "outputId": "f064dfe4-ea3f-4f98-8dd1-96102340a0ff"
      },
      "execution_count": 11,
      "outputs": [
        {
          "output_type": "stream",
          "name": "stdout",
          "text": [
            "Korelasi (r) = -0.3375\n",
            "Jenis korelasi: lemah\n",
            "Arah korelasi: negatif\n",
            "\n",
            "Interpretasi:\n",
            "Terdapat korelasi lemah negatif antara open_rate dan conversion_rate.\n",
            "Artinya, semakin tinggi open_rate, cenderung semakin rendah conversion_rate.\n"
          ]
        }
      ]
    }
  ]
}